{
 "cells": [
  {
   "cell_type": "code",
   "execution_count": null,
   "id": "015fad63",
   "metadata": {},
   "outputs": [],
   "source": [
    "import csv\n",
    "from facebook_scraper import get_posts\n",
    "\n",
    "'''change file name according to LGU\n",
    "itm-final-project-manila.csv\n",
    "itm-final-project-cebu.csv\n",
    "'''\n",
    "with open('itm-final-project-qc.csv','w') as csvfile:\n",
    "    field_names =['post','time','image','num of likes','num of comments','comments','reacts']\n",
    "    writer = csv.DictWriter(csvfile, fieldnames=field_names)\n",
    "    writer.writeheader()\n",
    "    \n",
    "    '''change page ID and cookies file according to LGU\n",
    "    ManilaPIO, cookies_manila.txt\n",
    "    CityofCebuOfficial, cookies_cebu.txt\n",
    "    '''\n",
    "    try:\n",
    "        for post in get_posts('QCGov', cookies=\"cookies_qc.txt\", options={\"comments\":True}, pages=200, extra_info = True):\n",
    "            text = post['text']\n",
    "            time = post['time']\n",
    "            image = post['image']\n",
    "            num_likes = post['likes']\n",
    "            num_comments = post['comments']\n",
    "            reactions = post['reactions']\n",
    "\n",
    "            comments = []\n",
    "            #for posts without comments\n",
    "            try:\n",
    "                for i in post['comments_full']:\n",
    "                    comments.append(i['comment_text'])\n",
    "            except:\n",
    "                pass\n",
    "\n",
    "            writer.writerow({'post': text,'time':time,'image':image,'num of likes':num_likes,'num of comments': num_comments,'comments':comments, 'reacts':reactions})\n",
    "    except:\n",
    "        print('Error')"
   ]
  },
  {
   "cell_type": "code",
   "execution_count": null,
   "id": "164e461e",
   "metadata": {},
   "outputs": [],
   "source": []
  }
 ],
 "metadata": {
  "kernelspec": {
   "display_name": "Python 3",
   "language": "python",
   "name": "python3"
  },
  "language_info": {
   "codemirror_mode": {
    "name": "ipython",
    "version": 3
   },
   "file_extension": ".py",
   "mimetype": "text/x-python",
   "name": "python",
   "nbconvert_exporter": "python",
   "pygments_lexer": "ipython3",
   "version": "3.8.8"
  }
 },
 "nbformat": 4,
 "nbformat_minor": 5
}
