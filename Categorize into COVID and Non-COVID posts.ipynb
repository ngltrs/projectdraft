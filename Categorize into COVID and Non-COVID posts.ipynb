{
 "cells": [
  {
   "cell_type": "code",
   "execution_count": 4,
   "id": "ebd9d0fc",
   "metadata": {},
   "outputs": [],
   "source": [
    "import csv\n",
    "import re\n",
    "import sys\n",
    "\n",
    "maxInt = sys.maxsize\n",
    "\n",
    "while True:\n",
    "    # decrease the maxInt value by factor 10 \n",
    "    # as long as the OverflowError occurs.\n",
    "\n",
    "    try:\n",
    "        csv.field_size_limit(maxInt)\n",
    "        break\n",
    "    except OverflowError:\n",
    "        maxInt = int(maxInt/10)\n",
    "\n",
    "covid_post = []\n",
    "noncovid_post = []\n",
    "keywords = 'coronavirus|covid|covid-19|delta|variant|symptomatic|asymptomatic|social distancing|quarantine|lockdown|gcq|ecq|bakuna|vax|vaccine|pandemic|herd immunity|pfizer|astrazeneca|sputnik|moderna|novovac|sinovac|coronavac'\n",
    "\n",
    "'''replace filename with\n",
    "itm-final-project-qc.csv\n",
    "itm-final-project-manila.csv\n",
    "'''\n",
    "filename = 'itm-final-project-cebu.csv'\n",
    "with open(filename,\"r\") as csvfile:\n",
    "    reader = csv.DictReader(csvfile)\n",
    "    for row in reader:\n",
    "        indiv_post = row['post'].lower()\n",
    "        try:\n",
    "            re.search(keywords,indiv_post).group()\n",
    "            covid_post.append(indiv_post)\n",
    "        except:\n",
    "            noncovid_post.append(indiv_post)\n",
    "\n",
    "#change file name\n",
    "with open('./data/covid-posts-cebu.csv','w') as csvfile:\n",
    "    csvwriter = csv.writer(csvfile)\n",
    "    for p in covid_post:\n",
    "        csvwriter.writerow([p])\n",
    "\n",
    "with open('./data/noncovid-posts-cebu.csv','w') as csvfile:\n",
    "    csvwriter = csv.writer(csvfile)\n",
    "    for p in noncovid_post:\n",
    "        csvwriter.writerow([p])"
   ]
  },
  {
   "cell_type": "code",
   "execution_count": null,
   "id": "0aad8fae",
   "metadata": {},
   "outputs": [],
   "source": []
  }
 ],
 "metadata": {
  "kernelspec": {
   "display_name": "Python 3",
   "language": "python",
   "name": "python3"
  },
  "language_info": {
   "codemirror_mode": {
    "name": "ipython",
    "version": 3
   },
   "file_extension": ".py",
   "mimetype": "text/x-python",
   "name": "python",
   "nbconvert_exporter": "python",
   "pygments_lexer": "ipython3",
   "version": "3.8.8"
  }
 },
 "nbformat": 4,
 "nbformat_minor": 5
}
